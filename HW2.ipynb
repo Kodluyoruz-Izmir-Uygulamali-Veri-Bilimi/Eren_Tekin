{
  "nbformat": 4,
  "nbformat_minor": 0,
  "metadata": {
    "kernelspec": {
      "display_name": "Python 3",
      "language": "python",
      "name": "python3"
    },
    "language_info": {
      "codemirror_mode": {
        "name": "ipython",
        "version": 3
      },
      "file_extension": ".py",
      "mimetype": "text/x-python",
      "name": "python",
      "nbconvert_exporter": "python",
      "pygments_lexer": "ipython3",
      "version": "3.7.3"
    },
    "colab": {
      "name": "HW2.ipynb",
      "provenance": [],
      "collapsed_sections": [],
      "toc_visible": true
    }
  },
  "cells": [
    {
      "cell_type": "markdown",
      "metadata": {
        "id": "mpYMbblfN1Tp",
        "colab_type": "text"
      },
      "source": [
        "titanic datasını okuyunuz(<b>train.csv</b>). Ödevin geri kalanında dataframe gösterimlerini <b>display()</b> fonksiyonunu kullanarak yapınız.<br> Örn: display(titanic_df)"
      ]
    },
    {
      "cell_type": "code",
      "metadata": {
        "id": "0oINwoy2N1Tr",
        "colab_type": "code",
        "colab": {
          "base_uri": "https://localhost:8080/",
          "height": 473
        },
        "outputId": "239e629f-d191-4d2a-8775-018a88fa514e"
      },
      "source": [
        "import pandas as pd\n",
        "train_df = pd.read_csv(\"train.csv\")\n",
        "missing_df = pd.read_csv(\"train_missing.csv\")\n",
        "display(train_df)"
      ],
      "execution_count": 191,
      "outputs": [
        {
          "output_type": "display_data",
          "data": {
            "text/html": [
              "<div>\n",
              "<style scoped>\n",
              "    .dataframe tbody tr th:only-of-type {\n",
              "        vertical-align: middle;\n",
              "    }\n",
              "\n",
              "    .dataframe tbody tr th {\n",
              "        vertical-align: top;\n",
              "    }\n",
              "\n",
              "    .dataframe thead th {\n",
              "        text-align: right;\n",
              "    }\n",
              "</style>\n",
              "<table border=\"1\" class=\"dataframe\">\n",
              "  <thead>\n",
              "    <tr style=\"text-align: right;\">\n",
              "      <th></th>\n",
              "      <th>PassengerId</th>\n",
              "      <th>Survived</th>\n",
              "      <th>Pclass</th>\n",
              "      <th>Name</th>\n",
              "      <th>Sex</th>\n",
              "      <th>Age</th>\n",
              "      <th>SibSp</th>\n",
              "      <th>Parch</th>\n",
              "      <th>Ticket</th>\n",
              "      <th>Fare</th>\n",
              "      <th>Cabin</th>\n",
              "      <th>Embarked</th>\n",
              "    </tr>\n",
              "  </thead>\n",
              "  <tbody>\n",
              "    <tr>\n",
              "      <th>0</th>\n",
              "      <td>1</td>\n",
              "      <td>0</td>\n",
              "      <td>3</td>\n",
              "      <td>Braund, Mr. Owen Harris</td>\n",
              "      <td>male</td>\n",
              "      <td>22.0</td>\n",
              "      <td>1</td>\n",
              "      <td>0</td>\n",
              "      <td>A/5 21171</td>\n",
              "      <td>7.2500</td>\n",
              "      <td>NaN</td>\n",
              "      <td>S</td>\n",
              "    </tr>\n",
              "    <tr>\n",
              "      <th>1</th>\n",
              "      <td>2</td>\n",
              "      <td>1</td>\n",
              "      <td>1</td>\n",
              "      <td>Cumings, Mrs. John Bradley (Florence Briggs Th...</td>\n",
              "      <td>female</td>\n",
              "      <td>38.0</td>\n",
              "      <td>1</td>\n",
              "      <td>0</td>\n",
              "      <td>PC 17599</td>\n",
              "      <td>71.2833</td>\n",
              "      <td>C85</td>\n",
              "      <td>C</td>\n",
              "    </tr>\n",
              "    <tr>\n",
              "      <th>2</th>\n",
              "      <td>3</td>\n",
              "      <td>1</td>\n",
              "      <td>3</td>\n",
              "      <td>Heikkinen, Miss. Laina</td>\n",
              "      <td>female</td>\n",
              "      <td>26.0</td>\n",
              "      <td>0</td>\n",
              "      <td>0</td>\n",
              "      <td>STON/O2. 3101282</td>\n",
              "      <td>7.9250</td>\n",
              "      <td>NaN</td>\n",
              "      <td>S</td>\n",
              "    </tr>\n",
              "    <tr>\n",
              "      <th>3</th>\n",
              "      <td>4</td>\n",
              "      <td>1</td>\n",
              "      <td>1</td>\n",
              "      <td>Futrelle, Mrs. Jacques Heath (Lily May Peel)</td>\n",
              "      <td>female</td>\n",
              "      <td>35.0</td>\n",
              "      <td>1</td>\n",
              "      <td>0</td>\n",
              "      <td>113803</td>\n",
              "      <td>53.1000</td>\n",
              "      <td>C123</td>\n",
              "      <td>S</td>\n",
              "    </tr>\n",
              "    <tr>\n",
              "      <th>4</th>\n",
              "      <td>5</td>\n",
              "      <td>0</td>\n",
              "      <td>3</td>\n",
              "      <td>Allen, Mr. William Henry</td>\n",
              "      <td>male</td>\n",
              "      <td>35.0</td>\n",
              "      <td>0</td>\n",
              "      <td>0</td>\n",
              "      <td>373450</td>\n",
              "      <td>8.0500</td>\n",
              "      <td>NaN</td>\n",
              "      <td>S</td>\n",
              "    </tr>\n",
              "    <tr>\n",
              "      <th>...</th>\n",
              "      <td>...</td>\n",
              "      <td>...</td>\n",
              "      <td>...</td>\n",
              "      <td>...</td>\n",
              "      <td>...</td>\n",
              "      <td>...</td>\n",
              "      <td>...</td>\n",
              "      <td>...</td>\n",
              "      <td>...</td>\n",
              "      <td>...</td>\n",
              "      <td>...</td>\n",
              "      <td>...</td>\n",
              "    </tr>\n",
              "    <tr>\n",
              "      <th>886</th>\n",
              "      <td>887</td>\n",
              "      <td>0</td>\n",
              "      <td>2</td>\n",
              "      <td>Montvila, Rev. Juozas</td>\n",
              "      <td>male</td>\n",
              "      <td>27.0</td>\n",
              "      <td>0</td>\n",
              "      <td>0</td>\n",
              "      <td>211536</td>\n",
              "      <td>13.0000</td>\n",
              "      <td>NaN</td>\n",
              "      <td>S</td>\n",
              "    </tr>\n",
              "    <tr>\n",
              "      <th>887</th>\n",
              "      <td>888</td>\n",
              "      <td>1</td>\n",
              "      <td>1</td>\n",
              "      <td>Graham, Miss. Margaret Edith</td>\n",
              "      <td>female</td>\n",
              "      <td>19.0</td>\n",
              "      <td>0</td>\n",
              "      <td>0</td>\n",
              "      <td>112053</td>\n",
              "      <td>30.0000</td>\n",
              "      <td>B42</td>\n",
              "      <td>S</td>\n",
              "    </tr>\n",
              "    <tr>\n",
              "      <th>888</th>\n",
              "      <td>889</td>\n",
              "      <td>0</td>\n",
              "      <td>3</td>\n",
              "      <td>Johnston, Miss. Catherine Helen \"Carrie\"</td>\n",
              "      <td>female</td>\n",
              "      <td>NaN</td>\n",
              "      <td>1</td>\n",
              "      <td>2</td>\n",
              "      <td>W./C. 6607</td>\n",
              "      <td>23.4500</td>\n",
              "      <td>NaN</td>\n",
              "      <td>S</td>\n",
              "    </tr>\n",
              "    <tr>\n",
              "      <th>889</th>\n",
              "      <td>890</td>\n",
              "      <td>1</td>\n",
              "      <td>1</td>\n",
              "      <td>Behr, Mr. Karl Howell</td>\n",
              "      <td>male</td>\n",
              "      <td>26.0</td>\n",
              "      <td>0</td>\n",
              "      <td>0</td>\n",
              "      <td>111369</td>\n",
              "      <td>30.0000</td>\n",
              "      <td>C148</td>\n",
              "      <td>C</td>\n",
              "    </tr>\n",
              "    <tr>\n",
              "      <th>890</th>\n",
              "      <td>891</td>\n",
              "      <td>0</td>\n",
              "      <td>3</td>\n",
              "      <td>Dooley, Mr. Patrick</td>\n",
              "      <td>male</td>\n",
              "      <td>32.0</td>\n",
              "      <td>0</td>\n",
              "      <td>0</td>\n",
              "      <td>370376</td>\n",
              "      <td>7.7500</td>\n",
              "      <td>NaN</td>\n",
              "      <td>Q</td>\n",
              "    </tr>\n",
              "  </tbody>\n",
              "</table>\n",
              "<p>891 rows × 12 columns</p>\n",
              "</div>"
            ],
            "text/plain": [
              "     PassengerId  Survived  Pclass  ...     Fare Cabin  Embarked\n",
              "0              1         0       3  ...   7.2500   NaN         S\n",
              "1              2         1       1  ...  71.2833   C85         C\n",
              "2              3         1       3  ...   7.9250   NaN         S\n",
              "3              4         1       1  ...  53.1000  C123         S\n",
              "4              5         0       3  ...   8.0500   NaN         S\n",
              "..           ...       ...     ...  ...      ...   ...       ...\n",
              "886          887         0       2  ...  13.0000   NaN         S\n",
              "887          888         1       1  ...  30.0000   B42         S\n",
              "888          889         0       3  ...  23.4500   NaN         S\n",
              "889          890         1       1  ...  30.0000  C148         C\n",
              "890          891         0       3  ...   7.7500   NaN         Q\n",
              "\n",
              "[891 rows x 12 columns]"
            ]
          },
          "metadata": {
            "tags": []
          }
        }
      ]
    },
    {
      "cell_type": "markdown",
      "metadata": {
        "id": "qAVWoejDN1Tx",
        "colab_type": "text"
      },
      "source": [
        "# Soru 1:"
      ]
    },
    {
      "cell_type": "markdown",
      "metadata": {
        "id": "k2EWz4HpN1Tx",
        "colab_type": "text"
      },
      "source": [
        "Kazada ölenlerin yaş ortalamasını bulunuz"
      ]
    },
    {
      "cell_type": "code",
      "metadata": {
        "id": "A1LmSk9oN1Ty",
        "colab_type": "code",
        "colab": {
          "base_uri": "https://localhost:8080/",
          "height": 34
        },
        "outputId": "f32c0f21-5e43-48c4-985c-eb38ea5fefa5"
      },
      "source": [
        "train_df[train_df[\"Survived\"] == 0][\"Age\"].mean()"
      ],
      "execution_count": 192,
      "outputs": [
        {
          "output_type": "execute_result",
          "data": {
            "text/plain": [
              "30.62617924528302"
            ]
          },
          "metadata": {
            "tags": []
          },
          "execution_count": 192
        }
      ]
    },
    {
      "cell_type": "markdown",
      "metadata": {
        "id": "f06OjoFgN1T2",
        "colab_type": "text"
      },
      "source": [
        "Kazada ölenlerin bilet fiyatlarının ortalamasını ve medyanını bulunuz"
      ]
    },
    {
      "cell_type": "code",
      "metadata": {
        "id": "EgERmC8mN1T2",
        "colab_type": "code",
        "colab": {
          "base_uri": "https://localhost:8080/",
          "height": 52
        },
        "outputId": "243ce200-f7b4-4d2e-e5d0-5a6d9e92d413"
      },
      "source": [
        "x = train_df[train_df[\"Survived\"] == 0][\"Fare\"].describe()\n",
        "print(\"Mean:\", x[1],\"\\nMedian:\", x[5])"
      ],
      "execution_count": 193,
      "outputs": [
        {
          "output_type": "stream",
          "text": [
            "Mean: 22.117886885245877 \n",
            "Median: 10.5\n"
          ],
          "name": "stdout"
        }
      ]
    },
    {
      "cell_type": "markdown",
      "metadata": {
        "id": "BJSRdt0mN1T6",
        "colab_type": "text"
      },
      "source": [
        "Kazada ölen erkeklerin yaş ortalamasını bulunuz\n"
      ]
    },
    {
      "cell_type": "code",
      "metadata": {
        "id": "U0OtrxikN1T6",
        "colab_type": "code",
        "colab": {
          "base_uri": "https://localhost:8080/",
          "height": 34
        },
        "outputId": "bae5151d-89c9-4487-8e82-876bd9aac067"
      },
      "source": [
        "train_df.query(\"Survived == 0 and Sex == 'male'\")[\"Age\"].mean()"
      ],
      "execution_count": 194,
      "outputs": [
        {
          "output_type": "execute_result",
          "data": {
            "text/plain": [
              "31.618055555555557"
            ]
          },
          "metadata": {
            "tags": []
          },
          "execution_count": 194
        }
      ]
    },
    {
      "cell_type": "markdown",
      "metadata": {
        "id": "sI7F96xwN1T-",
        "colab_type": "text"
      },
      "source": [
        "Kazada ölen Kadınların yaş ortalamasını bulunuz"
      ]
    },
    {
      "cell_type": "code",
      "metadata": {
        "id": "lmJv2yS7UFyF",
        "colab_type": "code",
        "colab": {
          "base_uri": "https://localhost:8080/",
          "height": 34
        },
        "outputId": "5e4d6af5-0c17-4b2b-8abb-56fa04276b81"
      },
      "source": [
        "train_df.query(\"Survived == 0 and Sex == 'female'\")[\"Age\"].mean()"
      ],
      "execution_count": 195,
      "outputs": [
        {
          "output_type": "execute_result",
          "data": {
            "text/plain": [
              "25.046875"
            ]
          },
          "metadata": {
            "tags": []
          },
          "execution_count": 195
        }
      ]
    },
    {
      "cell_type": "markdown",
      "metadata": {
        "id": "BGJhZAvyN1T_",
        "colab_type": "text"
      },
      "source": [
        "# Soru 2:"
      ]
    },
    {
      "cell_type": "markdown",
      "metadata": {
        "id": "7DDw4suCN1T_",
        "colab_type": "text"
      },
      "source": [
        "Kazadan kurtulanların yaş ortalamasını bulunuz"
      ]
    },
    {
      "cell_type": "code",
      "metadata": {
        "id": "iXBz2-P5N1UA",
        "colab_type": "code",
        "colab": {
          "base_uri": "https://localhost:8080/",
          "height": 34
        },
        "outputId": "239c9d37-39e1-4033-e49a-fc0b5043b74f"
      },
      "source": [
        "train_df[train_df[\"Survived\"] == 1][\"Age\"].mean()"
      ],
      "execution_count": 196,
      "outputs": [
        {
          "output_type": "execute_result",
          "data": {
            "text/plain": [
              "28.343689655172415"
            ]
          },
          "metadata": {
            "tags": []
          },
          "execution_count": 196
        }
      ]
    },
    {
      "cell_type": "markdown",
      "metadata": {
        "id": "k0aob4_9N1UD",
        "colab_type": "text"
      },
      "source": [
        "Kazadan kurtulanların bilet fiyatlarının ortalamasını bulunuz\n"
      ]
    },
    {
      "cell_type": "code",
      "metadata": {
        "id": "WBdCYVaPN1UE",
        "colab_type": "code",
        "colab": {
          "base_uri": "https://localhost:8080/",
          "height": 34
        },
        "outputId": "fddc1428-79bb-483c-ed26-0a0a23dbed86"
      },
      "source": [
        "train_df[train_df[\"Survived\"] == 1][\"Fare\"].mean()"
      ],
      "execution_count": 197,
      "outputs": [
        {
          "output_type": "execute_result",
          "data": {
            "text/plain": [
              "48.39540760233917"
            ]
          },
          "metadata": {
            "tags": []
          },
          "execution_count": 197
        }
      ]
    },
    {
      "cell_type": "markdown",
      "metadata": {
        "id": "1NC8Wl57N1UK",
        "colab_type": "text"
      },
      "source": [
        "Kazadan kurtulan toplam kişi sayısını bulunuz"
      ]
    },
    {
      "cell_type": "code",
      "metadata": {
        "id": "rQUs2VdAN1UL",
        "colab_type": "code",
        "colab": {
          "base_uri": "https://localhost:8080/",
          "height": 34
        },
        "outputId": "96bf48b0-4e2d-40a3-877a-440ff8dc9c93"
      },
      "source": [
        "train_df.Survived.value_counts()[1]"
      ],
      "execution_count": 198,
      "outputs": [
        {
          "output_type": "execute_result",
          "data": {
            "text/plain": [
              "342"
            ]
          },
          "metadata": {
            "tags": []
          },
          "execution_count": 198
        }
      ]
    },
    {
      "cell_type": "markdown",
      "metadata": {
        "id": "8sNiHgnjN1UO",
        "colab_type": "text"
      },
      "source": [
        "Kazadan kurtulan erkeklerin yaş ortalamasını bulunuz"
      ]
    },
    {
      "cell_type": "code",
      "metadata": {
        "id": "b0QNBa49N1UO",
        "colab_type": "code",
        "colab": {
          "base_uri": "https://localhost:8080/",
          "height": 34
        },
        "outputId": "1f719a0c-52d5-438f-fd91-77eedf326d20"
      },
      "source": [
        "train_df.query(\"Survived == 1 and Sex == 'male'\")[\"Age\"].mean()"
      ],
      "execution_count": 199,
      "outputs": [
        {
          "output_type": "execute_result",
          "data": {
            "text/plain": [
              "27.276021505376345"
            ]
          },
          "metadata": {
            "tags": []
          },
          "execution_count": 199
        }
      ]
    },
    {
      "cell_type": "markdown",
      "metadata": {
        "id": "W92F_OxdN1UT",
        "colab_type": "text"
      },
      "source": [
        "Kazadan kurtulan kadınların yaş ortalamasını bulunuz"
      ]
    },
    {
      "cell_type": "code",
      "metadata": {
        "id": "sq4a7GE7UO0j",
        "colab_type": "code",
        "colab": {
          "base_uri": "https://localhost:8080/",
          "height": 34
        },
        "outputId": "be66be86-9be6-4796-f384-4430bba437e5"
      },
      "source": [
        "train_df.query(\"Survived == 1 and Sex == 'female'\")[\"Age\"].mean()"
      ],
      "execution_count": 200,
      "outputs": [
        {
          "output_type": "execute_result",
          "data": {
            "text/plain": [
              "28.84771573604061"
            ]
          },
          "metadata": {
            "tags": []
          },
          "execution_count": 200
        }
      ]
    },
    {
      "cell_type": "markdown",
      "metadata": {
        "id": "U42YBpi1N1UT",
        "colab_type": "text"
      },
      "source": [
        "# Soru 3: "
      ]
    },
    {
      "cell_type": "markdown",
      "metadata": {
        "id": "6Gfk1wV5N1UU",
        "colab_type": "text"
      },
      "source": [
        "10 yaşından küçüklerin bilet fiyatlarının medyan değerini bulunuz"
      ]
    },
    {
      "cell_type": "code",
      "metadata": {
        "id": "jNhdbiydN1UV",
        "colab_type": "code",
        "colab": {
          "base_uri": "https://localhost:8080/",
          "height": 34
        },
        "outputId": "b7daee18-c926-4111-da7e-336fcd98dd5f"
      },
      "source": [
        "train_df.query(\"Age < 10\")[\"Fare\"].median()"
      ],
      "execution_count": 201,
      "outputs": [
        {
          "output_type": "execute_result",
          "data": {
            "text/plain": [
              "27.0"
            ]
          },
          "metadata": {
            "tags": []
          },
          "execution_count": 201
        }
      ]
    },
    {
      "cell_type": "markdown",
      "metadata": {
        "id": "jeA2NszmN1Ua",
        "colab_type": "text"
      },
      "source": [
        "10 yaşından büyüklerin bilet fiyatlarının medyan değerini bulunuz"
      ]
    },
    {
      "cell_type": "code",
      "metadata": {
        "id": "TTJzLGXBN1Ub",
        "colab_type": "code",
        "colab": {
          "base_uri": "https://localhost:8080/",
          "height": 34
        },
        "outputId": "6bc88f68-9e54-444a-9f78-76663f71c4f6"
      },
      "source": [
        "train_df.query(\"Age > 10\")[\"Fare\"].median()"
      ],
      "execution_count": 202,
      "outputs": [
        {
          "output_type": "execute_result",
          "data": {
            "text/plain": [
              "13.92915"
            ]
          },
          "metadata": {
            "tags": []
          },
          "execution_count": 202
        }
      ]
    },
    {
      "cell_type": "markdown",
      "metadata": {
        "id": "TJc1QBM9N1Ue",
        "colab_type": "text"
      },
      "source": [
        "# Soru 5:"
      ]
    },
    {
      "cell_type": "markdown",
      "metadata": {
        "id": "k3J6hEsjN1Uf",
        "colab_type": "text"
      },
      "source": [
        "1.sınıf, 2.sınıf ve 3.sınıf yolcuların ölüm oranlarını karşılaştırınız. Bir veya bir kaç cümle ile sonucu <b>yorumlayınız.</b>\n"
      ]
    },
    {
      "cell_type": "code",
      "metadata": {
        "id": "X9Qt6GfjN1Ug",
        "colab_type": "code",
        "colab": {
          "base_uri": "https://localhost:8080/",
          "height": 87
        },
        "outputId": "ff6d30f0-8caf-495e-f193-c1f75673360e"
      },
      "source": [
        "p1 = (len(train_df.query(\"Pclass==1 and Survived==0\")) / len(train_df.query(\"Pclass==1\")))*100\n",
        "p2 = (len(train_df.query(\"Pclass==2 and Survived==0\")) / len(train_df.query(\"Pclass==2\")))*100\n",
        "p3 = (len(train_df.query(\"Pclass==3 and Survived==0\")) / len(train_df.query(\"Pclass==3\")))*100\n",
        "print(\"1.Sınıf: %{:.2f}\\n2.Sınıf: %{:.2f}\\n3.Sınıf: %{:.2f}\".format(p1,p2,p3))\n",
        "print(\"1. sınıftan 3. sınıfa doğru gittikçe ölüm oranı gözle görülür bir biçimde yükselmiş.\")"
      ],
      "execution_count": 203,
      "outputs": [
        {
          "output_type": "stream",
          "text": [
            "1.Sınıf: %37.04\n",
            "2.Sınıf: %52.72\n",
            "3.Sınıf: %75.76\n",
            "1. sınıftan 3. sınıfa doğru gittikçe ölüm oranı gözle görülür bir biçimde yükselmiş.\n"
          ],
          "name": "stdout"
        }
      ]
    },
    {
      "cell_type": "markdown",
      "metadata": {
        "id": "eDlrxlkaN1Uj",
        "colab_type": "text"
      },
      "source": [
        "1.sınıf, 2.sınıf ve 3.sınıf bilet fiyatlarını karşılaştırınız"
      ]
    },
    {
      "cell_type": "code",
      "metadata": {
        "id": "gfxq3qBZN1Uk",
        "colab_type": "code",
        "colab": {
          "base_uri": "https://localhost:8080/",
          "height": 70
        },
        "outputId": "3587267c-18a7-4bf1-fcb4-603e2fe4ea31"
      },
      "source": [
        "pf1 = train_df.query(\"Pclass==1\")[\"Fare\"].mean()\n",
        "pf2 = train_df.query(\"Pclass==2\")[\"Fare\"].mean()\n",
        "pf3 = train_df.query(\"Pclass==3\")[\"Fare\"].mean()\n",
        "print(\"1.Sınıf: {:.2f}\\n2.Sınıf: {:.2f}\\n3.Sınıf: {:.2f}\".format(pf1,pf2,pf3))"
      ],
      "execution_count": 204,
      "outputs": [
        {
          "output_type": "stream",
          "text": [
            "1.Sınıf: 84.15\n",
            "2.Sınıf: 20.66\n",
            "3.Sınıf: 13.68\n"
          ],
          "name": "stdout"
        }
      ]
    },
    {
      "cell_type": "markdown",
      "metadata": {
        "id": "-eMy762GN1Uo",
        "colab_type": "text"
      },
      "source": [
        "# Soru 6:"
      ]
    },
    {
      "cell_type": "markdown",
      "metadata": {
        "id": "cbSlXFT8N1Uo",
        "colab_type": "text"
      },
      "source": [
        "Kazada ölen kadınların oranı ile erkeklerin oranını karşılaştırınız. Bir veya bir kaç cümle ile sonucu <b>yorumlayınız.</b>"
      ]
    },
    {
      "cell_type": "code",
      "metadata": {
        "id": "CErnqgWsN1Up",
        "colab_type": "code",
        "colab": {
          "base_uri": "https://localhost:8080/",
          "height": 107
        },
        "outputId": "56c0b8ae-f591-4712-a25e-975892f34699"
      },
      "source": [
        "display(len(train_df.query(\"Survived==0 and Sex=='female'\")) / len(train_df.query(\"Sex=='female'\")))\n",
        "display(len(train_df.query(\"Survived==0 and Sex=='male'\")) / len(train_df.query(\"Sex=='male'\")))\n",
        "print(\"Ölen erkeklerin oranı ölmeyenlerin 4 katından biraz daha fazla, ancak kadınlarda ise durum tam dersi.\\nAslında beklenmedik olmayan bir sonuç bu bana göre çünkü orta yaştaki çoğu erkek yaşlı, kadın ve çocukların kurtulabilmesi için kendini feda etmiş.\")"
      ],
      "execution_count": 222,
      "outputs": [
        {
          "output_type": "display_data",
          "data": {
            "text/plain": [
              "0.25796178343949044"
            ]
          },
          "metadata": {
            "tags": []
          }
        },
        {
          "output_type": "display_data",
          "data": {
            "text/plain": [
              "0.8110918544194108"
            ]
          },
          "metadata": {
            "tags": []
          }
        },
        {
          "output_type": "stream",
          "text": [
            "Ölen erkeklerin oranı ölmeyenlerin 4 katından biraz daha fazla, ancak kadınlarda ise durum tam dersi.\n",
            "Aslında beklenmedik olmayan bir sonuç bu bana göre çünkü orta yaştaki çoğu erkek yaşlı, kadın ve çocukların kurtulabilmesi için kendini feda etmiş.\n"
          ],
          "name": "stdout"
        }
      ]
    },
    {
      "cell_type": "markdown",
      "metadata": {
        "id": "aj-mhwvlN1Us",
        "colab_type": "text"
      },
      "source": [
        "# Soru 7:"
      ]
    },
    {
      "cell_type": "markdown",
      "metadata": {
        "id": "gx8L0_Y2N1Us",
        "colab_type": "text"
      },
      "source": [
        "Kazada ölen erkeklerin ortalama bilet fiyatı ile kurtulan erkeklerin ortalama bilet fiyatını karşılaştırınız. Bir veya bir kaç cümle ile sonucu <b>yorumlayınız.</b>"
      ]
    },
    {
      "cell_type": "code",
      "metadata": {
        "id": "qi3OQmvSN1Ut",
        "colab_type": "code",
        "colab": {
          "base_uri": "https://localhost:8080/",
          "height": 87
        },
        "outputId": "ccdcf8db-4c62-424d-a650-0f664ac886d0"
      },
      "source": [
        "display(train_df.query(\"Survived==0 and Sex=='male'\")[\"Fare\"].mean())\n",
        "display(train_df.query(\"Survived==1 and Sex=='male'\")[\"Fare\"].mean())\n",
        "print(\"Hayatta kalan erkeklerin bilet fiyatlarının ortalamaları daha yüksek. \\nYani yukarıda da gördüğümüz gibi sınıfı daha iyi olan insanların hayatta kalma olasılıkları daha yüksek oluyor.\")"
      ],
      "execution_count": 206,
      "outputs": [
        {
          "output_type": "display_data",
          "data": {
            "text/plain": [
              "21.960992948717944"
            ]
          },
          "metadata": {
            "tags": []
          }
        },
        {
          "output_type": "display_data",
          "data": {
            "text/plain": [
              "40.82148440366974"
            ]
          },
          "metadata": {
            "tags": []
          }
        },
        {
          "output_type": "stream",
          "text": [
            "Hayatta kalan erkeklerin bilet fiyatlarının ortalamaları daha yüksek. \n",
            "Yani yukarıda da gördüğümüz gibi sınıfı daha iyi olan insanların hayatta kalma olasılıkları daha yüksek oluyor.\n"
          ],
          "name": "stdout"
        }
      ]
    },
    {
      "cell_type": "markdown",
      "metadata": {
        "id": "UEiMsv7HN1Uw",
        "colab_type": "text"
      },
      "source": [
        "# Missing Value Doldurma"
      ]
    },
    {
      "cell_type": "markdown",
      "metadata": {
        "id": "lvsPtEDAN1Ux",
        "colab_type": "text"
      },
      "source": [
        "Bundan sonraki soruları <b>train_missing.csv</b> datasını kullanarak cevaplayınız."
      ]
    },
    {
      "cell_type": "markdown",
      "metadata": {
        "id": "FyZETAnkN1Ux",
        "colab_type": "text"
      },
      "source": [
        "# Soru 8"
      ]
    },
    {
      "cell_type": "markdown",
      "metadata": {
        "id": "baTAA5FPN1Uy",
        "colab_type": "text"
      },
      "source": [
        "Age, Embarked ve Fare değişkenlerini mean/median/mode değerlerini kullanarak değişken tipine uygun olacak şekilde doldurunuz."
      ]
    },
    {
      "cell_type": "code",
      "metadata": {
        "id": "OOsOr7PKatSt",
        "colab_type": "code",
        "colab": {
          "base_uri": "https://localhost:8080/",
          "height": 247
        },
        "outputId": "4d938cac-444a-45ee-9bba-d9107363370e"
      },
      "source": [
        "missing_df.isnull().sum()"
      ],
      "execution_count": 207,
      "outputs": [
        {
          "output_type": "execute_result",
          "data": {
            "text/plain": [
              "PassengerId      0\n",
              "Survived         0\n",
              "Pclass           0\n",
              "Name             0\n",
              "Sex              0\n",
              "Age            177\n",
              "SibSp          170\n",
              "Parch            0\n",
              "Ticket           0\n",
              "Fare            91\n",
              "Cabin          687\n",
              "Embarked       173\n",
              "dtype: int64"
            ]
          },
          "metadata": {
            "tags": []
          },
          "execution_count": 207
        }
      ]
    },
    {
      "cell_type": "code",
      "metadata": {
        "id": "f1LY6zx-amUu",
        "colab_type": "code",
        "colab": {}
      },
      "source": [
        "missing_df[\"Age\"].fillna(value=missing_df[\"Age\"].mean(), inplace=True)\n",
        "missing_df[\"Embarked\"].fillna(value=missing_df[\"Embarked\"].mode()[0], inplace=True)\n",
        "missing_df[\"Fare\"].fillna(value=missing_df[\"Fare\"].mean(), inplace=True)"
      ],
      "execution_count": 209,
      "outputs": []
    },
    {
      "cell_type": "code",
      "metadata": {
        "id": "IxtxDCvfb_tk",
        "colab_type": "code",
        "colab": {
          "base_uri": "https://localhost:8080/",
          "height": 247
        },
        "outputId": "66daa2d0-db43-4f95-9258-40d5d6008ead"
      },
      "source": [
        "missing_df.isnull().sum()"
      ],
      "execution_count": 210,
      "outputs": [
        {
          "output_type": "execute_result",
          "data": {
            "text/plain": [
              "PassengerId      0\n",
              "Survived         0\n",
              "Pclass           0\n",
              "Name             0\n",
              "Sex              0\n",
              "Age              0\n",
              "SibSp          170\n",
              "Parch            0\n",
              "Ticket           0\n",
              "Fare             0\n",
              "Cabin          687\n",
              "Embarked         0\n",
              "dtype: int64"
            ]
          },
          "metadata": {
            "tags": []
          },
          "execution_count": 210
        }
      ]
    },
    {
      "cell_type": "markdown",
      "metadata": {
        "id": "rj3sRz1rN1U1",
        "colab_type": "text"
      },
      "source": [
        "# Soru 9"
      ]
    },
    {
      "cell_type": "markdown",
      "metadata": {
        "id": "dfRjcJJGN1U2",
        "colab_type": "text"
      },
      "source": [
        "SibSp değişkeni hangi yöntemler ile doldurulabilir, fikir yürütün. Uygun bir yöntem ile doldurun. (SibSp değişkeni kişilerin gemide bulunan kardeş/eş sayısını belirtiyor.)"
      ]
    },
    {
      "cell_type": "code",
      "metadata": {
        "id": "fvnz6YQ0dvtG",
        "colab_type": "code",
        "colab": {
          "base_uri": "https://localhost:8080/",
          "height": 176
        },
        "outputId": "165b8fb3-35e6-432a-c6e2-dee99183f243"
      },
      "source": [
        "missing_df.query(\"Age<=18\")[\"SibSp\"].describe()"
      ],
      "execution_count": 212,
      "outputs": [
        {
          "output_type": "execute_result",
          "data": {
            "text/plain": [
              "count    119.000000\n",
              "mean       1.201681\n",
              "std        1.504681\n",
              "min        0.000000\n",
              "25%        0.000000\n",
              "50%        1.000000\n",
              "75%        2.000000\n",
              "max        5.000000\n",
              "Name: SibSp, dtype: float64"
            ]
          },
          "metadata": {
            "tags": []
          },
          "execution_count": 212
        }
      ]
    },
    {
      "cell_type": "code",
      "metadata": {
        "id": "fAFMKB_DfwTh",
        "colab_type": "code",
        "colab": {
          "base_uri": "https://localhost:8080/",
          "height": 141
        },
        "outputId": "580eed78-2b50-4844-c8e1-731c18ac04b0"
      },
      "source": [
        "missing_df.query(\"Age<18\")[\"SibSp\"].value_counts()"
      ],
      "execution_count": 213,
      "outputs": [
        {
          "output_type": "execute_result",
          "data": {
            "text/plain": [
              "0.0    38\n",
              "1.0    29\n",
              "4.0    16\n",
              "2.0     5\n",
              "3.0     5\n",
              "5.0     3\n",
              "Name: SibSp, dtype: int64"
            ]
          },
          "metadata": {
            "tags": []
          },
          "execution_count": 213
        }
      ]
    },
    {
      "cell_type": "code",
      "metadata": {
        "id": "1pDZerG3d5Zm",
        "colab_type": "code",
        "colab": {
          "base_uri": "https://localhost:8080/",
          "height": 176
        },
        "outputId": "7afd843c-fc06-4fae-8392-82435f1d6bcf"
      },
      "source": [
        "missing_df.query(\"Age>18 and Sex=='male'\")[\"SibSp\"].describe()"
      ],
      "execution_count": 214,
      "outputs": [
        {
          "output_type": "execute_result",
          "data": {
            "text/plain": [
              "count    405.000000\n",
              "mean       0.293827\n",
              "std        0.909295\n",
              "min        0.000000\n",
              "25%        0.000000\n",
              "50%        0.000000\n",
              "75%        0.000000\n",
              "max        8.000000\n",
              "Name: SibSp, dtype: float64"
            ]
          },
          "metadata": {
            "tags": []
          },
          "execution_count": 214
        }
      ]
    },
    {
      "cell_type": "code",
      "metadata": {
        "id": "Q6s7MN3ffrAz",
        "colab_type": "code",
        "colab": {
          "base_uri": "https://localhost:8080/",
          "height": 123
        },
        "outputId": "2608549e-2009-4821-ef49-34a5ae7a9a57"
      },
      "source": [
        "missing_df.query(\"Age>18\")[\"SibSp\"].value_counts()"
      ],
      "execution_count": 215,
      "outputs": [
        {
          "output_type": "execute_result",
          "data": {
            "text/plain": [
              "0.0    436\n",
              "1.0    138\n",
              "2.0     14\n",
              "8.0      7\n",
              "3.0      7\n",
              "Name: SibSp, dtype: int64"
            ]
          },
          "metadata": {
            "tags": []
          },
          "execution_count": 215
        }
      ]
    },
    {
      "cell_type": "code",
      "metadata": {
        "id": "VMguv7PPN1U2",
        "colab_type": "code",
        "colab": {
          "base_uri": "https://localhost:8080/",
          "height": 70
        },
        "outputId": "d27cdc58-e936-4aad-ce73-4b43f0192397"
      },
      "source": [
        "print(\"18 yaşından küçüklerin kardeş sayısı 18'den büyüklere göre daha fazla yukarıdaki çıktılardan da gördüğümüz gibi.\\nBu yüzden 18 yaşından küçükleri 1 ile 18 yaşından büyükleri de 0 ile dolduracağım\")\n",
        "missing_df.loc[missing_df[\"Age\"]<=18, \"SibSp\"] = missing_df.loc[missing_df[\"Age\"]<=18, \"SibSp\"].fillna(value=1.0)\n",
        "missing_df.loc[missing_df[\"Age\"]>18, \"SibSp\"] = missing_df.loc[missing_df[\"Age\"]>18, \"SibSp\"].fillna(value=0.0)\n",
        "missing_df[\"SibSp\"].isnull().sum()"
      ],
      "execution_count": 221,
      "outputs": [
        {
          "output_type": "stream",
          "text": [
            "18 yaşından küçüklerin kardeş sayısı 18'den büyüklere göre daha fazla yukarıdaki çıktılardan da gördüğümüz gibi.\n",
            "Bu yüzden 18 yaşından küçükleri 1 ile 18 yaşından büyükleri de 0 ile dolduracağım\n"
          ],
          "name": "stdout"
        },
        {
          "output_type": "execute_result",
          "data": {
            "text/plain": [
              "0"
            ]
          },
          "metadata": {
            "tags": []
          },
          "execution_count": 221
        }
      ]
    },
    {
      "cell_type": "markdown",
      "metadata": {
        "id": "EDPRaFxYN1U5",
        "colab_type": "text"
      },
      "source": [
        "# Soru 10"
      ]
    },
    {
      "cell_type": "markdown",
      "metadata": {
        "id": "IQ13BlJxN1U5",
        "colab_type": "text"
      },
      "source": [
        "Datayı baştan okuyun. Embarked değişkenini \"NAN\" şeklinde yeni bir kategorisi olacak şekilde doldurun."
      ]
    },
    {
      "cell_type": "code",
      "metadata": {
        "id": "qSizSQLvN1U6",
        "colab_type": "code",
        "colab": {}
      },
      "source": [
        "missing_df2 = pd.read_csv(\"train_missing.csv\")\n",
        "missing_df2[\"Embarked\"].fillna(value=\"NAN\", inplace=True)"
      ],
      "execution_count": 218,
      "outputs": []
    },
    {
      "cell_type": "markdown",
      "metadata": {
        "id": "GiQntIyAN1U-",
        "colab_type": "text"
      },
      "source": [
        "# Soru 11"
      ]
    },
    {
      "cell_type": "markdown",
      "metadata": {
        "id": "6H0fAY5cN1U-",
        "colab_type": "text"
      },
      "source": [
        "\"Fare\" değişkeni için \"Fare_Missing\" adında yeni bir değişken türetip \"Fare\" değişkenini median ile doldurun."
      ]
    },
    {
      "cell_type": "code",
      "metadata": {
        "id": "MBTFcjAmN1U_",
        "colab_type": "code",
        "colab": {}
      },
      "source": [
        "idx = missing_df2[missing_df2[\"Fare\"].isnull()].index"
      ],
      "execution_count": 219,
      "outputs": []
    },
    {
      "cell_type": "code",
      "metadata": {
        "id": "kGheAQyBplC9",
        "colab_type": "code",
        "colab": {
          "base_uri": "https://localhost:8080/",
          "height": 506
        },
        "outputId": "ed48c55b-8817-43dd-97fe-f5768c5c36a6"
      },
      "source": [
        "missing_df2[\"Fare_Missing\"] = 0\n",
        "missing_df2.loc[idx, \"Fare_Missing\"] = 1\n",
        "missing_df2[\"Fare\"].fillna(value=missing_df2[\"Fare\"].median(), inplace=True)\n",
        "display(missing_df2)"
      ],
      "execution_count": 220,
      "outputs": [
        {
          "output_type": "display_data",
          "data": {
            "text/html": [
              "<div>\n",
              "<style scoped>\n",
              "    .dataframe tbody tr th:only-of-type {\n",
              "        vertical-align: middle;\n",
              "    }\n",
              "\n",
              "    .dataframe tbody tr th {\n",
              "        vertical-align: top;\n",
              "    }\n",
              "\n",
              "    .dataframe thead th {\n",
              "        text-align: right;\n",
              "    }\n",
              "</style>\n",
              "<table border=\"1\" class=\"dataframe\">\n",
              "  <thead>\n",
              "    <tr style=\"text-align: right;\">\n",
              "      <th></th>\n",
              "      <th>PassengerId</th>\n",
              "      <th>Survived</th>\n",
              "      <th>Pclass</th>\n",
              "      <th>Name</th>\n",
              "      <th>Sex</th>\n",
              "      <th>Age</th>\n",
              "      <th>SibSp</th>\n",
              "      <th>Parch</th>\n",
              "      <th>Ticket</th>\n",
              "      <th>Fare</th>\n",
              "      <th>Cabin</th>\n",
              "      <th>Embarked</th>\n",
              "      <th>Fare_Missing</th>\n",
              "    </tr>\n",
              "  </thead>\n",
              "  <tbody>\n",
              "    <tr>\n",
              "      <th>0</th>\n",
              "      <td>1</td>\n",
              "      <td>0</td>\n",
              "      <td>3</td>\n",
              "      <td>Braund, Mr. Owen Harris</td>\n",
              "      <td>male</td>\n",
              "      <td>22.0</td>\n",
              "      <td>1.0</td>\n",
              "      <td>0</td>\n",
              "      <td>A/5 21171</td>\n",
              "      <td>7.25000</td>\n",
              "      <td>NaN</td>\n",
              "      <td>S</td>\n",
              "      <td>0</td>\n",
              "    </tr>\n",
              "    <tr>\n",
              "      <th>1</th>\n",
              "      <td>2</td>\n",
              "      <td>1</td>\n",
              "      <td>1</td>\n",
              "      <td>Cumings, Mrs. John Bradley (Florence Briggs Th...</td>\n",
              "      <td>female</td>\n",
              "      <td>38.0</td>\n",
              "      <td>1.0</td>\n",
              "      <td>0</td>\n",
              "      <td>PC 17599</td>\n",
              "      <td>71.28330</td>\n",
              "      <td>C85</td>\n",
              "      <td>C</td>\n",
              "      <td>0</td>\n",
              "    </tr>\n",
              "    <tr>\n",
              "      <th>2</th>\n",
              "      <td>3</td>\n",
              "      <td>1</td>\n",
              "      <td>3</td>\n",
              "      <td>Heikkinen, Miss. Laina</td>\n",
              "      <td>female</td>\n",
              "      <td>26.0</td>\n",
              "      <td>0.0</td>\n",
              "      <td>0</td>\n",
              "      <td>STON/O2. 3101282</td>\n",
              "      <td>7.92500</td>\n",
              "      <td>NaN</td>\n",
              "      <td>NAN</td>\n",
              "      <td>0</td>\n",
              "    </tr>\n",
              "    <tr>\n",
              "      <th>3</th>\n",
              "      <td>4</td>\n",
              "      <td>1</td>\n",
              "      <td>1</td>\n",
              "      <td>Futrelle, Mrs. Jacques Heath (Lily May Peel)</td>\n",
              "      <td>female</td>\n",
              "      <td>35.0</td>\n",
              "      <td>1.0</td>\n",
              "      <td>0</td>\n",
              "      <td>113803</td>\n",
              "      <td>53.10000</td>\n",
              "      <td>C123</td>\n",
              "      <td>S</td>\n",
              "      <td>0</td>\n",
              "    </tr>\n",
              "    <tr>\n",
              "      <th>4</th>\n",
              "      <td>5</td>\n",
              "      <td>0</td>\n",
              "      <td>3</td>\n",
              "      <td>Allen, Mr. William Henry</td>\n",
              "      <td>male</td>\n",
              "      <td>35.0</td>\n",
              "      <td>0.0</td>\n",
              "      <td>0</td>\n",
              "      <td>373450</td>\n",
              "      <td>8.05000</td>\n",
              "      <td>NaN</td>\n",
              "      <td>NAN</td>\n",
              "      <td>0</td>\n",
              "    </tr>\n",
              "    <tr>\n",
              "      <th>...</th>\n",
              "      <td>...</td>\n",
              "      <td>...</td>\n",
              "      <td>...</td>\n",
              "      <td>...</td>\n",
              "      <td>...</td>\n",
              "      <td>...</td>\n",
              "      <td>...</td>\n",
              "      <td>...</td>\n",
              "      <td>...</td>\n",
              "      <td>...</td>\n",
              "      <td>...</td>\n",
              "      <td>...</td>\n",
              "      <td>...</td>\n",
              "    </tr>\n",
              "    <tr>\n",
              "      <th>886</th>\n",
              "      <td>887</td>\n",
              "      <td>0</td>\n",
              "      <td>2</td>\n",
              "      <td>Montvila, Rev. Juozas</td>\n",
              "      <td>male</td>\n",
              "      <td>27.0</td>\n",
              "      <td>0.0</td>\n",
              "      <td>0</td>\n",
              "      <td>211536</td>\n",
              "      <td>13.00000</td>\n",
              "      <td>NaN</td>\n",
              "      <td>S</td>\n",
              "      <td>0</td>\n",
              "    </tr>\n",
              "    <tr>\n",
              "      <th>887</th>\n",
              "      <td>888</td>\n",
              "      <td>1</td>\n",
              "      <td>1</td>\n",
              "      <td>Graham, Miss. Margaret Edith</td>\n",
              "      <td>female</td>\n",
              "      <td>19.0</td>\n",
              "      <td>0.0</td>\n",
              "      <td>0</td>\n",
              "      <td>112053</td>\n",
              "      <td>30.00000</td>\n",
              "      <td>B42</td>\n",
              "      <td>S</td>\n",
              "      <td>0</td>\n",
              "    </tr>\n",
              "    <tr>\n",
              "      <th>888</th>\n",
              "      <td>889</td>\n",
              "      <td>0</td>\n",
              "      <td>3</td>\n",
              "      <td>Johnston, Miss. Catherine Helen \"Carrie\"</td>\n",
              "      <td>female</td>\n",
              "      <td>NaN</td>\n",
              "      <td>1.0</td>\n",
              "      <td>2</td>\n",
              "      <td>W./C. 6607</td>\n",
              "      <td>14.45625</td>\n",
              "      <td>NaN</td>\n",
              "      <td>S</td>\n",
              "      <td>1</td>\n",
              "    </tr>\n",
              "    <tr>\n",
              "      <th>889</th>\n",
              "      <td>890</td>\n",
              "      <td>1</td>\n",
              "      <td>1</td>\n",
              "      <td>Behr, Mr. Karl Howell</td>\n",
              "      <td>male</td>\n",
              "      <td>26.0</td>\n",
              "      <td>0.0</td>\n",
              "      <td>0</td>\n",
              "      <td>111369</td>\n",
              "      <td>30.00000</td>\n",
              "      <td>C148</td>\n",
              "      <td>NAN</td>\n",
              "      <td>0</td>\n",
              "    </tr>\n",
              "    <tr>\n",
              "      <th>890</th>\n",
              "      <td>891</td>\n",
              "      <td>0</td>\n",
              "      <td>3</td>\n",
              "      <td>Dooley, Mr. Patrick</td>\n",
              "      <td>male</td>\n",
              "      <td>32.0</td>\n",
              "      <td>0.0</td>\n",
              "      <td>0</td>\n",
              "      <td>370376</td>\n",
              "      <td>7.75000</td>\n",
              "      <td>NaN</td>\n",
              "      <td>Q</td>\n",
              "      <td>0</td>\n",
              "    </tr>\n",
              "  </tbody>\n",
              "</table>\n",
              "<p>891 rows × 13 columns</p>\n",
              "</div>"
            ],
            "text/plain": [
              "     PassengerId  Survived  Pclass  ... Cabin Embarked  Fare_Missing\n",
              "0              1         0       3  ...   NaN        S             0\n",
              "1              2         1       1  ...   C85        C             0\n",
              "2              3         1       3  ...   NaN      NAN             0\n",
              "3              4         1       1  ...  C123        S             0\n",
              "4              5         0       3  ...   NaN      NAN             0\n",
              "..           ...       ...     ...  ...   ...      ...           ...\n",
              "886          887         0       2  ...   NaN        S             0\n",
              "887          888         1       1  ...   B42        S             0\n",
              "888          889         0       3  ...   NaN        S             1\n",
              "889          890         1       1  ...  C148      NAN             0\n",
              "890          891         0       3  ...   NaN        Q             0\n",
              "\n",
              "[891 rows x 13 columns]"
            ]
          },
          "metadata": {
            "tags": []
          }
        }
      ]
    }
  ]
}